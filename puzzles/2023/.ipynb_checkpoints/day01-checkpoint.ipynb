{
 "cells": [
  {
   "cell_type": "markdown",
   "id": "86d62338-2167-4624-9ffd-cc41c579cb21",
   "metadata": {},
   "source": [
    "# Advent Of Code - 2023 - day 01"
   ]
  },
  {
   "cell_type": "code",
   "execution_count": 3,
   "id": "759bee2b-3971-4c53-a47d-b339666fe7cb",
   "metadata": {},
   "outputs": [],
   "source": [
    "import logging\n",
    "import re"
   ]
  },
  {
   "cell_type": "code",
   "execution_count": 18,
   "id": "65e37e16-77dd-4e2b-a708-58a0a9eced2f",
   "metadata": {},
   "outputs": [],
   "source": [
    "logger = logging.getLogger(__name__)\n",
    "logger.setLevel(logging.DEBUG)"
   ]
  },
  {
   "cell_type": "code",
   "execution_count": 31,
   "id": "2af0790e-f139-43a7-a11c-efc064a27241",
   "metadata": {},
   "outputs": [],
   "source": [
    "test_input = \"\"\"\n",
    "two1nine\n",
    "abcone2threexyz\n",
    "xtwone3four\n",
    "4nineeightseven2\n",
    "zoneight234\n",
    "7pqrstsixteen\n",
    "\"\"\""
   ]
  },
  {
   "cell_type": "code",
   "execution_count": 34,
   "id": "005fb166-d573-493a-88e1-6e37c02e13e2",
   "metadata": {},
   "outputs": [],
   "source": [
    "def part1(text_input: str) -> int:\n",
    "    total = 0\n",
    "    lines = text_input.strip().split(\"\\n\")\n",
    "    for line in lines:\n",
    "        # Regex to remove all non-numeric characters\n",
    "        line_clean = re.sub(\"[^0-9]\", \"\", line)\n",
    "        # first and last digits:\n",
    "        first = line_clean[0]\n",
    "        last = line_clean[-1]\n",
    "        total += int(f\"{first}{last}\")\n",
    "    return total"
   ]
  },
  {
   "cell_type": "code",
   "execution_count": 35,
   "id": "bbbf161f-5564-4304-b9f3-fb72bfd95a97",
   "metadata": {},
   "outputs": [
    {
     "data": {
      "text/plain": [
       "209"
      ]
     },
     "execution_count": 35,
     "metadata": {},
     "output_type": "execute_result"
    }
   ],
   "source": [
    "part1(test_input)"
   ]
  },
  {
   "cell_type": "code",
   "execution_count": 36,
   "id": "c28773a6-4bce-459f-99fb-0dd9be14cbd7",
   "metadata": {},
   "outputs": [],
   "source": [
    "def part2(text_input: str) -> str:\n",
    "    replace = {\n",
    "        \"one\": \"o1e\",\n",
    "        \"two\": \"t2o\",\n",
    "        \"three\": \"t3e\",\n",
    "        \"four\": \"f4r\",\n",
    "        \"five\": \"f5e\",\n",
    "        \"six\": \"s6x\",\n",
    "        \"seven\": \"s7n\",\n",
    "        \"eight\": \"e8t\",\n",
    "        \"nine\": \"n9e\",\n",
    "    }\n",
    "\n",
    "    total = 0\n",
    "    lines = text_input.strip().split(\"\\n\")\n",
    "    for line in lines:\n",
    "        # print(line)\n",
    "        # First replace all words with numbers\n",
    "        for word, number in replace.items():\n",
    "            line = line.replace(word, number)\n",
    "        # Regex to remove all non-numeric characters\n",
    "        line_clean = re.sub(\"[^0-9]\", \"\", line)\n",
    "        # print(line_clean)\n",
    "        # first and last digits:\n",
    "        first = line_clean[0]\n",
    "        last = line_clean[-1]\n",
    "        number = int(f\"{first}{last}\")\n",
    "        total += number\n",
    "    return total"
   ]
  },
  {
   "cell_type": "code",
   "execution_count": 13,
   "id": "968e911c-805b-431f-9f29-25fe2e7fd539",
   "metadata": {},
   "outputs": [
    {
     "data": {
      "text/plain": [
       "281"
      ]
     },
     "execution_count": 13,
     "metadata": {},
     "output_type": "execute_result"
    }
   ],
   "source": [
    "part2(test_input)"
   ]
  }
 ],
 "metadata": {
  "kernelspec": {
   "display_name": "Python 3 (ipykernel)",
   "language": "python",
   "name": "python3"
  },
  "language_info": {
   "codemirror_mode": {
    "name": "ipython",
    "version": 3
   },
   "file_extension": ".py",
   "mimetype": "text/x-python",
   "name": "python",
   "nbconvert_exporter": "python",
   "pygments_lexer": "ipython3",
   "version": "3.11.5"
  }
 },
 "nbformat": 4,
 "nbformat_minor": 5
}
